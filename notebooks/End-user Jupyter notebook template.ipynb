{
 "cells": [
  {
   "cell_type": "markdown",
   "id": "e601b5f1",
   "metadata": {},
   "source": [
    "# A Jupyter-based Federated Learning wizard for Distributed Medical Applications across Institutions"
   ]
  },
  {
   "cell_type": "markdown",
   "id": "6030720a",
   "metadata": {},
   "source": [
    "User input (AI researcher module): in this notebook, AI developers can customize the way the data will be load as well as the model architecture that will be used to train models at each collaborating institution within the federation. This implementation, preferably in [PyTorch](https://pytorch.org/) for this first version, will then be integrated in the [Flower](https://flower.dev/) application."
   ]
  },
  {
   "cell_type": "markdown",
   "id": "00022375",
   "metadata": {},
   "source": [
    "<img src=\"../figures/federation_figure.JPG\" alt=\"Overview\" style=\"width: 800px;\"/>"
   ]
  },
  {
   "cell_type": "markdown",
   "id": "949fabd3",
   "metadata": {},
   "source": [
    "## How to?"
   ]
  },
  {
   "cell_type": "markdown",
   "id": "beb00c1b",
   "metadata": {},
   "source": [
    "In this notebook, the overall structure of the code has been pre-filled so that the user only has to complete the missing parts.<br/>Note that all comments (preceded by a \"#\" sign) correspond to parts of code that need completion. Comments in quotation marks indicate the specific inputs and/or outputs that are needed for a given function or class to be further successfully integrated into the [Flower](https://flower.dev/) application."
   ]
  },
  {
   "cell_type": "markdown",
   "id": "315bce4d",
   "metadata": {},
   "source": [
    "## Dependencies"
   ]
  },
  {
   "cell_type": "code",
   "execution_count": null,
   "id": "5e6a3570",
   "metadata": {},
   "outputs": [],
   "source": [
    "import torch\n",
    "import torch.nn as nn\n",
    "import torchvision\n",
    "from torch.utils.data import DataLoader\n",
    "import flwr as fl\n",
    "\n",
    "# import ...\n",
    "\n",
    "DEVICE = torch.device(\"cuda\" if torch.cuda.is_available() else \"cpu\")"
   ]
  },
  {
   "cell_type": "markdown",
   "id": "60b54068",
   "metadata": {},
   "source": [
    "## Data preparation"
   ]
  },
  {
   "cell_type": "code",
   "execution_count": null,
   "id": "45c535d9",
   "metadata": {},
   "outputs": [],
   "source": [
    "class CustomDataset(torch.utils.data.Dataset):\n",
    "    def __init__(self):\n",
    "        ### START CODE HERE ###\n",
    "        \n",
    "        self.X = #TODO\n",
    "        self.Y = #TODO\n",
    "        \n",
    "        ### END CODE HERE ###\n",
    "        \n",
    "        self.indexes = np.arange(0, len(self.X))\n",
    "        \n",
    "    def __len__(self):\n",
    "        \"\"\"Required output: length of the dataset\"\"\"\n",
    "        return self.X.shape[0]\n",
    "    \n",
    "    def __getitem__(self, idx):\n",
    "        \"\"\"Required input: index to access\n",
    "        Required output: image corresponding to the input index and its label\"\"\"\n",
    "        \n",
    "        image = self.X[idx]\n",
    "        label = self.Y[idx]\n",
    "        \n",
    "        return image, label"
   ]
  },
  {
   "cell_type": "markdown",
   "id": "e5dbabe2",
   "metadata": {},
   "source": [
    "## Data loading"
   ]
  },
  {
   "cell_type": "code",
   "execution_count": null,
   "id": "d9754267",
   "metadata": {},
   "outputs": [],
   "source": [
    "def load_data():\n",
    "    \"\"\"Load data (training, validation and test sets).\n",
    "    Required outputs: loaders of each set and dictionary containing the length of each corresponding set\n",
    "    \"\"\"\n",
    "    ### START CODE HERE ###\n",
    "    trainset = #TODO\n",
    "    valset = #TODO\n",
    "    testset = #TODO\n",
    "    \n",
    "    trainloader = #TODO\n",
    "    valloader = #TODO\n",
    "    testloader = #TODO\n",
    "    ### END CODE HERE ###\n",
    "    \n",
    "    num_examples = {\"trainset\" : len(trainset), \"valset\": len(valset), \"testset\" : len(testset)}\n",
    "    \n",
    "    return trainloader, valloader, testloader, num_examples"
   ]
  },
  {
   "cell_type": "markdown",
   "id": "bbf89270",
   "metadata": {},
   "source": [
    "## Model definition"
   ]
  },
  {
   "cell_type": "code",
   "execution_count": null,
   "id": "f32699a9",
   "metadata": {},
   "outputs": [],
   "source": [
    "class Model(nn.Module):\n",
    "    \"\"\"Model architecture. Inputs in the init function can be added if needed.\"\"\"\n",
    "    def __init__(self) -> None:\n",
    "        super(Model, self).__init__()\n",
    "        \n",
    "        ### START CODE HERE ###\n",
    "        #TODO\n",
    "        ### END CODE HERE ###\n",
    "        \n",
    "    def forward(self, x: torch.Tensor) -> torch.Tensor:\n",
    "        \"\"\"Required input: tensor of images to predict\n",
    "        Required output: output of the model given the images tensor in input\"\"\"\n",
    "            \n",
    "        ### START CODE HERE ###\n",
    "        #TODO\n",
    "        ### END CODE HERE ###\n",
    "        \n",
    "        return x"
   ]
  },
  {
   "cell_type": "markdown",
   "id": "d7373f28",
   "metadata": {},
   "source": [
    "## Training loop"
   ]
  },
  {
   "cell_type": "code",
   "execution_count": null,
   "id": "255c034d",
   "metadata": {},
   "outputs": [],
   "source": [
    "def train(net, trainloader, valloader, epochs):\n",
    "    \"\"\"Train the network on the training set, evaluating it on the validation set at each epoch.\"\"\"\n",
    "    criterion = #TODO Define loss function\n",
    "    optimizer = #TODO Define optimizer\n",
    "    \n",
    "    for i_epoch in range(epochs):\n",
    "        ### START CODE HERE ###\n",
    "        #TODO\n",
    "        ### END CODE HERE ###"
   ]
  },
  {
   "cell_type": "markdown",
   "id": "aa04c93a",
   "metadata": {},
   "source": [
    "## Test function"
   ]
  },
  {
   "cell_type": "code",
   "execution_count": null,
   "id": "28e291ad",
   "metadata": {},
   "outputs": [],
   "source": [
    "def test(net, testloader):\n",
    "    \"\"\"Validate the network on the entire test set.\"\"\"\n",
    "    criterion = #TODO Define loss function\n",
    "    \n",
    "    with torch.no_grad():\n",
    "        ### START CODE HERE ###\n",
    "        #TODO\n",
    "        ### END CODE HERE ###\n",
    "    \n",
    "    return loss, accuracy"
   ]
  },
  {
   "cell_type": "markdown",
   "id": "e66e0123",
   "metadata": {},
   "source": [
    "## Aggregation function"
   ]
  },
  {
   "cell_type": "code",
   "execution_count": null,
   "id": "4a650268",
   "metadata": {},
   "outputs": [],
   "source": [
    "# https://flower.dev/docs/implementing-strategies.html\n",
    "\n",
    "strategy = fl.server.strategy.FedAvg(\n",
    "    # ... other FedAvg arguments\n",
    "    fraction_fit=1,\n",
    "    fraction_eval=1,\n",
    "    min_eval_clients=2,\n",
    "    min_available_clients=2,\n",
    "    # on_evaluate_config_fn=evaluate_config,\n",
    ")\n",
    "\n",
    "config = {\"num_rounds\": 3}"
   ]
  }
 ],
 "metadata": {
  "kernelspec": {
   "display_name": "Python 3 (ipykernel)",
   "language": "python",
   "name": "python3"
  },
  "language_info": {
   "codemirror_mode": {
    "name": "ipython",
    "version": 3
   },
   "file_extension": ".py",
   "mimetype": "text/x-python",
   "name": "python",
   "nbconvert_exporter": "python",
   "pygments_lexer": "ipython3",
   "version": "3.8.6"
  }
 },
 "nbformat": 4,
 "nbformat_minor": 5
}
